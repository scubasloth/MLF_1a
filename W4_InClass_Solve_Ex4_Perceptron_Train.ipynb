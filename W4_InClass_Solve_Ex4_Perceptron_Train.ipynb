{
  "nbformat": 4,
  "nbformat_minor": 0,
  "metadata": {
    "colab": {
      "name": "W4_InClass_Solve_Ex4_Perceptron_Train.ipynb",
      "provenance": [],
      "collapsed_sections": [],
      "include_colab_link": true
    },
    "kernelspec": {
      "name": "python3",
      "display_name": "Python 3"
    }
  },
  "cells": [
    {
      "cell_type": "markdown",
      "metadata": {
        "id": "view-in-github",
        "colab_type": "text"
      },
      "source": [
        "<a href=\"https://colab.research.google.com/github/scubasloth/MLF_1a/blob/main/W4_InClass_Solve_Ex4_Perceptron_Train.ipynb\" target=\"_parent\"><img src=\"https://colab.research.google.com/assets/colab-badge.svg\" alt=\"Open In Colab\"/></a>"
      ]
    },
    {
      "cell_type": "code",
      "metadata": {
        "id": "I--zAO2-CUp1"
      },
      "source": [
        ""
      ],
      "execution_count": null,
      "outputs": []
    },
    {
      "cell_type": "markdown",
      "metadata": {
        "id": "KG92x-nr0AJs"
      },
      "source": [
        "# Train a Perceptron"
      ]
    },
    {
      "cell_type": "markdown",
      "metadata": {
        "id": "4N7PjpY_0NHp"
      },
      "source": [
        "## A small but practical dataset: Iris flowers"
      ]
    },
    {
      "cell_type": "markdown",
      "metadata": {
        "id": "z8y26kgd5HRq"
      },
      "source": [
        "We will prepare a simplified Iris dataset as before.\n",
        "- using only 2 attributes, $X_0$ and $X_1$, \n",
        "- considering classify setosa from versicolor (y==0 or y==1)."
      ]
    },
    {
      "cell_type": "code",
      "metadata": {
        "id": "9SflUWoW4EZo"
      },
      "source": [
        "from sklearn.datasets import load_iris\n",
        "import numpy as np\n",
        "iris = load_iris()\n",
        "X, y = iris['data'], iris['target']\n",
        "two_class_index = np.logical_or(y == 0, y == 1)\n",
        "simple_X = X[two_class_index]\n",
        "simple_X = simple_X[:, 0:2]\n",
        "simple_y = y[two_class_index]\n",
        "\n",
        "# Impl-Note: more convenient to use +/-1, rather than 0/1 to represent the \n",
        "# class labels\n",
        "simple_y[simple_y==0] = -1\n",
        "# -- this is a common way to replace values in a numpy array"
      ],
      "execution_count": null,
      "outputs": []
    },
    {
      "cell_type": "code",
      "metadata": {
        "id": "Ty5IYI9ID_Zf"
      },
      "source": [
        "from sklearn.model_selection import train_test_split\n",
        "simple_X_train, simple_X_valid, simple_y_train, simple_y_valid = \\\n",
        "    train_test_split(simple_X, simple_y)"
      ],
      "execution_count": null,
      "outputs": []
    },
    {
      "cell_type": "markdown",
      "metadata": {
        "id": "PHXlP5w857iq"
      },
      "source": [
        "## Visualisation Helper\n",
        "\n",
        "The visualiser will work if you work out the \"compute_linear_score_with_\" correctly."
      ]
    },
    {
      "cell_type": "code",
      "metadata": {
        "id": "QUNx_-s309Uj"
      },
      "source": [
        "import matplotlib.pyplot as plt\n",
        "def viz_hypo(score_func, pred_func, X_samples, y_samples):\n",
        "    \"\"\"\n",
        "    X_samples is to provide a range\n",
        "    \"\"\"\n",
        "    # visualisation of the model behaviour\n",
        "    x0_min, x1_min = np.min(X_samples, axis=0)\n",
        "    x0_max, x1_max = np.max(X_samples, axis=0)\n",
        "\n",
        "    xx, yy = np.meshgrid(np.arange(x0_min - 0.1, x0_max + 0.1, 0.02),\n",
        "                        np.arange(x1_min - 0.1, x1_max + 0.1, 0.02))\n",
        "    \n",
        "    grid_coord = np.stack((xx.flatten(), yy.flatten())).T\n",
        "    zz_c = pred_func(grid_coord).reshape(xx.shape)\n",
        "    zz_v = score_func(grid_coord).reshape(xx.shape)\n",
        "\n",
        "    fig1, ax1 = plt.subplots(constrained_layout=True)\n",
        "    C = ax1.contourf(xx, yy, zz_v) \n",
        "    C2 = ax1.contour(xx, yy, zz_v, colors=('k', ), linewidths=2)\n",
        "    ax1.clabel(C2, inline=True, fontsize=10)\n",
        "\n",
        "    fig2, ax2 = plt.subplots(constrained_layout=True)\n",
        "    C = ax2.contourf(xx, yy, zz_c) \n",
        "    C2 = ax2.contour(xx, yy, zz_c, colors=('k', ), linewidths=2)\n",
        "    ax2.clabel(C2, inline=True, fontsize=10)\n",
        "\n",
        "    # Draw the training samples\n",
        "    ax1.scatter(X_samples[:, 0], X_samples[:, 1], c=y_samples, linewidth=1, edgecolor='k')\n",
        "    ax2.scatter(X_samples[:, 0], X_samples[:, 1], c=y_samples, linewidth=1, edgecolor='k')\n",
        "    plt.show()\n"
      ],
      "execution_count": null,
      "outputs": []
    },
    {
      "cell_type": "code",
      "metadata": {
        "colab": {
          "base_uri": "https://localhost:8080/"
        },
        "id": "1VBUhpFhCrRP",
        "outputId": "85a359e4-57af-46a6-963e-28e36bf610f1"
      },
      "source": [
        "True * False"
      ],
      "execution_count": null,
      "outputs": [
        {
          "output_type": "execute_result",
          "data": {
            "text/plain": [
              "0"
            ]
          },
          "metadata": {},
          "execution_count": 20
        }
      ]
    },
    {
      "cell_type": "code",
      "metadata": {
        "colab": {
          "base_uri": "https://localhost:8080/"
        },
        "id": "X9iA_hiECWLw",
        "outputId": "5cae92b3-8df9-4e1b-93d6-0cbc6484dc58"
      },
      "source": [
        "np.nonzero ( (tmp_p(simple_X_train) > 0) * (simple_y_train < 0) )"
      ],
      "execution_count": null,
      "outputs": [
        {
          "output_type": "execute_result",
          "data": {
            "text/plain": [
              "(array([67]),)"
            ]
          },
          "metadata": {},
          "execution_count": 22
        }
      ]
    },
    {
      "cell_type": "code",
      "metadata": {
        "colab": {
          "base_uri": "https://localhost:8080/"
        },
        "id": "fnx3t3EcDKsT",
        "outputId": "0947c659-8f6e-4881-cc2a-7959f95b0fa8"
      },
      "source": [
        "simple_X_train[67], -1"
      ],
      "execution_count": null,
      "outputs": [
        {
          "output_type": "execute_result",
          "data": {
            "text/plain": [
              "(array([4.5, 2.3]), -1)"
            ]
          },
          "metadata": {},
          "execution_count": 24
        }
      ]
    },
    {
      "cell_type": "code",
      "metadata": {
        "colab": {
          "base_uri": "https://localhost:8080/"
        },
        "id": "CO84EG9tDUu8",
        "outputId": "a0c091bc-d03c-4a5f-e59f-1475d271b320"
      },
      "source": [
        "w = np.array([0.1, -0.4, +0.65]) \n",
        "print(w)\n",
        "w[:-1] += simple_X_train[67] * (-1) \n",
        "w[-1] += -1\n",
        "print(w)"
      ],
      "execution_count": null,
      "outputs": [
        {
          "output_type": "stream",
          "text": [
            "[ 0.1  -0.4   0.65]\n",
            "[-4.4  -2.7  -0.35]\n"
          ],
          "name": "stdout"
        }
      ]
    },
    {
      "cell_type": "code",
      "metadata": {
        "id": "TDiAOium4ttU",
        "colab": {
          "base_uri": "https://localhost:8080/",
          "height": 646
        },
        "outputId": "71c04076-93de-40a9-957f-5983923b8b16"
      },
      "source": [
        "# just throw in a random classifier to test visualisation\n",
        "tmp_p = lambda X: X[:, 0] * w[0] + X[:, 1] * w[1] + w[2]\n",
        "viz_hypo(tmp_p, lambda X:tmp_p(X) > 0, simple_X_train, simple_y_train)"
      ],
      "execution_count": null,
      "outputs": [
        {
          "output_type": "stream",
          "text": [
            "/usr/local/lib/python3.7/dist-packages/ipykernel_launcher.py:24: UserWarning: No contour levels were found within the data range.\n"
          ],
          "name": "stderr"
        },
        {
          "output_type": "display_data",
          "data": {
            "image/png": "[encoded data removed]",
            "text/plain": [
              "<Figure size 432x288 with 1 Axes>"
            ]
          },
          "metadata": {
            "needs_background": "light"
          }
        },
        {
          "output_type": "display_data",
          "data": {
            "image/png": "[encoded data removed]",
            "text/plain": [
              "<Figure size 432x288 with 1 Axes>"
            ]
          },
          "metadata": {
            "needs_background": "light"
          }
        }
      ]
    },
    {
      "cell_type": "markdown",
      "metadata": {
        "id": "Qu_eK7AZi-U8"
      },
      "source": [
        "## Search parameters in an infinite hypothesis family"
      ]
    },
    {
      "cell_type": "markdown",
      "metadata": {
        "id": "Cib6DrZRjKxU"
      },
      "source": [
        "Here we expand our tiny linear model into a Perceptron"
      ]
    },
    {
      "cell_type": "code",
      "metadata": {
        "id": "jmVCuMFOjKNf"
      },
      "source": [
        "class MyPerceptron:\n",
        "    def __init__(self):\n",
        "        \"\"\"\n",
        "        The constructor method of an object.\n",
        "        \"\"\"\n",
        "        self.h = np.array([0, 1, 0], dtype=np.float)\n",
        "\n",
        "\n",
        "    def compute_linear_score_with_(self, X, h):\n",
        "        \"\"\"\n",
        "        Compute the linear function\n",
        "        s[i] = <h, X[i]> + bias, <., .> represents inner product\n",
        "        \"\"\"\n",
        "        s = None\n",
        "        # insert your code here\n",
        "        # HINT: the *last* element in an array is represented as a[-1]\n",
        "        s = (X * h[:-1]).sum(axis=1) + h[-1]\n",
        "        return s\n",
        "\n",
        "    def predict_with_(self, X, h):\n",
        "        # return 0/1 according to the linear score\n",
        "        return np.sign(self.compute_linear_score_with_(X, h)).astype(np.int)\n",
        "\n",
        "    def predict(self, X):\n",
        "        return self.predict_with_(X, self.h)\n",
        "\n",
        "    def fit(self, X, y):\n",
        "        \"\"\"\n",
        "        :param X: training samples -- observed attribute values\n",
        "        :param y: the known answer for each sample\n",
        "\n",
        "        NOTE: now the \"loss\" has been encoded. You can try a customised one!\n",
        "        \"\"\"\n",
        "        # Follow the tutorial of perpectron training\n",
        "        ii = 0\n",
        "        while True:\n",
        "            # insert your code here\n",
        "            \n",
        "            # predict using the current h\n",
        "            predicted = self.predict_with_(X, self.h)\n",
        "            # find errors\n",
        "            error_indexes = np.nonzero(predicted != y)[0]\n",
        "            # `nonzero` returns the indexes for multiple dimension array,\n",
        "            # Here only the indexes of the first (and only) dimension is \n",
        "            # concerned, therefore the [0]\n",
        "\n",
        "            if len(error_indexes) > 0:\n",
        "                i = error_indexes[np.random.randint(len(error_indexes))]\n",
        "                self.h[:-1] += X[i] * float(y[i])\n",
        "                # To update the weights\n",
        "                self.h[-1] += float(y[i])\n",
        "                # To update the b-bias\n",
        "                #   This is equivalent to using the homogeneous representation\n",
        "                #   of x, where the last element is one\n",
        "                print(f\"{ii} Train errors: {len(error_indexes)}\")\n",
        "                ii += 1\n",
        "                \n",
        "                # DEBUG\n",
        "                # print(predicted)\n",
        "                # print(y)\n",
        "                # if ii>400: \n",
        "                #     break\n",
        "                # ii += 1\n",
        "            else:\n",
        "                break # All the predictions are correct on the training data \n",
        "                # and there is nothing to adjust.\n",
        "            \n"
      ],
      "execution_count": null,
      "outputs": []
    },
    {
      "cell_type": "code",
      "metadata": {
        "id": "ZKSDkvegGz31"
      },
      "source": [
        "my_model = MyPerceptron() # initiate an object\n",
        "my_model.fit(simple_X_train, simple_y_train)"
      ],
      "execution_count": null,
      "outputs": []
    },
    {
      "cell_type": "code",
      "metadata": {
        "id": "pe129EqFELxw"
      },
      "source": [
        "pred_valid = my_model.predict(simple_X_valid)\n",
        "valid_corr_num = (pred_valid == simple_y_valid).sum()\n",
        "print(\"Valid accu\", valid_corr_num / len(simple_y_valid))"
      ],
      "execution_count": null,
      "outputs": []
    },
    {
      "cell_type": "markdown",
      "metadata": {
        "id": "1ej81vNDLh9O"
      },
      "source": [
        "Let us visualise the trained perception model and its prediction on the training data:"
      ]
    },
    {
      "cell_type": "code",
      "metadata": {
        "id": "YxMOywPaJRPc"
      },
      "source": [
        "score_fn = lambda x:my_model.compute_linear_score_with_(x, my_model.h)\n",
        "# The `lambda` defines an \"anonymous function\", which is a shortcut to write the \n",
        "# input-output correspondence without a formal definition\n",
        "pred_fn = lambda x:my_model.predict(x)\n",
        "viz_hypo(score_fn, pred_fn, simple_X_train, simple_y_train)"
      ],
      "execution_count": null,
      "outputs": []
    },
    {
      "cell_type": "markdown",
      "metadata": {
        "id": "FeKsXuokLvDc"
      },
      "source": [
        "Further questions:\n",
        "\n",
        "- Try to construct necessary logic branches in the loop of the training so that when the training data cannot be separated Completely by linear classifiers, the algorithm could exit gracely.\n",
        "- Verify your implementation by trying to classify flowers of the second and the third classes."
      ]
    },
    {
      "cell_type": "markdown",
      "metadata": {
        "id": "2o1-3QptXEla"
      },
      "source": [
        "# Array Ops"
      ]
    },
    {
      "cell_type": "code",
      "metadata": {
        "id": "x66DZZM2XCbd"
      },
      "source": [
        "import numpy as np\n",
        "from sklearn.datasets import load_sample_images\n",
        "ims = load_sample_images()\n",
        "im0 = ims.images[0]\n",
        "\n",
        "def show_array(a):\n",
        "    if a.ndim == 1: \n",
        "        a = a[:, np.newaxis]\n",
        "    fig, axes = plt.subplots(1)\n",
        "    fig.set_size_inches(a.shape[1]/2, a.shape[0]/2)\n",
        "    axes.imshow(a)\n",
        "    axes.set_xticks(np.arange(a.shape[1]))\n",
        "    axes.set_yticks(np.arange(a.shape[0]))"
      ],
      "execution_count": null,
      "outputs": []
    },
    {
      "cell_type": "code",
      "metadata": {
        "id": "WDv4pgnDXvte"
      },
      "source": [
        "a = np.zeros((10, 1))\n",
        "a[5:8]=1\n",
        "show_array(a)\n",
        "\n",
        "a = np.zeros((10, 1))\n",
        "a[3:8:2]=1\n",
        "show_array(a)"
      ],
      "execution_count": null,
      "outputs": []
    }
  ]
}